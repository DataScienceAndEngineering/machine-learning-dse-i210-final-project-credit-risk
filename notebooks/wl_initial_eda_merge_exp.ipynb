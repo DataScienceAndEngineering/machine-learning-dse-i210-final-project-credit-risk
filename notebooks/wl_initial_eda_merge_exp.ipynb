{
 "cells": [
  {
   "cell_type": "code",
   "execution_count": 1,
   "metadata": {},
   "outputs": [],
   "source": [
    "import polars as pl\n",
    "import pandas as pd\n",
    "import os\n",
    "import glob"
   ]
  },
  {
   "cell_type": "code",
   "execution_count": 62,
   "metadata": {},
   "outputs": [],
   "source": [
    "# Path and file type\n",
    "folder = '../data/parquet_files/train/'\n",
    "file_type = 'train_credit_bureau_'\n",
    "\n",
    "# Get file paths for file groups\n",
    "files = {}\n",
    "for group in ['a_1', 'a_2', 'b_1', 'b_2']:\n",
    "    path = os.path.join(folder, file_type + group + '*')\n",
    "    file_group = glob.glob(path)\n",
    "    files[group] = file_group"
   ]
  },
  {
   "cell_type": "markdown",
   "metadata": {},
   "source": [
    "## Train Credit Bureau A1 Columns"
   ]
  },
  {
   "cell_type": "code",
   "execution_count": 113,
   "metadata": {},
   "outputs": [
    {
     "name": "stdout",
     "output_type": "stream",
     "text": [
      "Shape: (4108212, 79)\n",
      "Number of Unique Case IDs: 335275\n"
     ]
    }
   ],
   "source": [
    "# Check a1 file\n",
    "df = pl.read_parquet(files['a_1'][0])\n",
    "print(f'Shape: {df.shape}')\n",
    "print(f\"Number of Unique Case IDs: {df['case_id'].n_unique()}\")"
   ]
  },
  {
   "cell_type": "code",
   "execution_count": 120,
   "metadata": {},
   "outputs": [
    {
     "name": "stdout",
     "output_type": "stream",
     "text": [
      "Float64    54\n",
      "String     23\n",
      "Int64       2\n",
      "Name: count, dtype: int64\n"
     ]
    }
   ],
   "source": [
    "# Column dtypes\n",
    "dtype_counts = pd.Series(df.dtypes).value_counts()\n",
    "print(dtype_counts)\n",
    "\n",
    "# Date columns\n",
    "date_cols = [ df.columns[i] for i in range(len(df.columns)) if (df.columns[i].__contains__('dat')) and (df.dtypes[i] == pl.String) ]\n",
    "\n",
    "# Categorical columns\n",
    "cat_cols = [ df.columns[i] for i in range(len(df.columns)) if (df.columns[i] not in date_cols) and (df.dtypes[i] == pl.String) ]\n",
    "\n",
    "# Numerical columns\n",
    "ignore_cols = ['case_id', 'num_group1', 'num_group2']\n",
    "num_cols = [ \n",
    "    df.columns[i] for i in range(len(df.columns)) \n",
    "    if (df.columns[i] not in date_cols) and (df.columns[i] not in cat_cols) and (df.columns[i] not in ignore_cols)\n",
    "]"
   ]
  },
  {
   "cell_type": "code",
   "execution_count": 121,
   "metadata": {},
   "outputs": [],
   "source": [
    "# Convert date columns\n",
    "df_date = df[['case_id'] + date_cols].with_columns([ pl.col(col).str.to_date() for col in date_cols ])\n",
    "\n",
    "# One-hot categories\n",
    "df_dummies = df[['case_id'] + cat_cols].to_dummies(cat_cols)"
   ]
  },
  {
   "cell_type": "code",
   "execution_count": 122,
   "metadata": {},
   "outputs": [],
   "source": [
    "# Date aggs\n",
    "date_aggs = [ pl.min(col).name.suffix('_min') for col in date_cols ] +\\\n",
    "            [ pl.max(col).name.suffix('_max') for col in date_cols ] +\\\n",
    "            [ pl.n_unique(col).name.suffix('_distinct') for col in date_cols]\n",
    "df_date_grouped = df_date.group_by('case_id').agg(date_aggs)\n",
    "\n",
    "# One-hot aggs\n",
    "dummy_cols = [ col for col in df_dummies.columns if col != 'case_id']\n",
    "dummies_aggs = [ pl.sum(col).name.suffix('_sum') for col in dummy_cols ]\n",
    "df_dummies_grouped = df_dummies.group_by('case_id').agg(dummies_aggs)\n",
    "\n",
    "# Numerical aggs\n",
    "num_aggs = [ pl.min(col).name.suffix('_min') for col in num_cols ] +\\\n",
    "           [ pl.max(col).name.suffix('_max') for col in num_cols ] +\\\n",
    "           [ pl.mean(col).name.suffix('_mean') for col in num_cols ] +\\\n",
    "           [ pl.median(col).name.suffix('_median') for col in num_cols ] +\\\n",
    "           [ pl.sum(col).name.suffix('_sum') for col in num_cols ]\n",
    "df_num_grouped = df.group_by('case_id').agg(num_aggs)"
   ]
  },
  {
   "cell_type": "code",
   "execution_count": 123,
   "metadata": {},
   "outputs": [],
   "source": [
    "# Join DataFrames\n",
    "df_joined = df_num_grouped.join(df_date_grouped, on='case_id')\n",
    "df_joined = df_joined.join(df_dummies_grouped, on='case_id')"
   ]
  },
  {
   "cell_type": "code",
   "execution_count": 124,
   "metadata": {},
   "outputs": [
    {
     "data": {
      "text/html": [
       "<div><style>\n",
       ".dataframe > thead > tr,\n",
       ".dataframe > tbody > tr {\n",
       "  text-align: right;\n",
       "  white-space: pre-wrap;\n",
       "}\n",
       "</style>\n",
       "<small>shape: (5, 1_190)</small><table border=\"1\" class=\"dataframe\"><thead><tr><th>case_id</th><th>annualeffectiverate_199L_min</th><th>annualeffectiverate_63L_min</th><th>contractsum_5085717L_min</th><th>credlmt_230A_min</th><th>credlmt_935A_min</th><th>debtoutstand_525A_min</th><th>debtoverdue_47A_min</th><th>dpdmax_139P_min</th><th>dpdmax_757P_min</th><th>dpdmaxdatemonth_442T_min</th><th>dpdmaxdatemonth_89T_min</th><th>dpdmaxdateyear_596T_min</th><th>dpdmaxdateyear_896T_min</th><th>instlamount_768A_min</th><th>instlamount_852A_min</th><th>interestrate_508L_min</th><th>monthlyinstlamount_332A_min</th><th>monthlyinstlamount_674A_min</th><th>nominalrate_281L_min</th><th>nominalrate_498L_min</th><th>numberofcontrsvalue_258L_min</th><th>numberofcontrsvalue_358L_min</th><th>numberofinstls_229L_min</th><th>numberofinstls_320L_min</th><th>numberofoutstandinstls_520L_min</th><th>numberofoutstandinstls_59L_min</th><th>numberofoverdueinstlmax_1039L_min</th><th>numberofoverdueinstlmax_1151L_min</th><th>numberofoverdueinstls_725L_min</th><th>numberofoverdueinstls_834L_min</th><th>outstandingamount_354A_min</th><th>outstandingamount_362A_min</th><th>overdueamount_31A_min</th><th>overdueamount_659A_min</th><th>overdueamountmax2_14A_min</th><th>overdueamountmax2_398A_min</th><th>&hellip;</th><th>purposeofcred_426M_9e302002_sum</th><th>purposeofcred_426M_P188_162_121_sum</th><th>purposeofcred_426M_a55475b1_sum</th><th>purposeofcred_426M_e19fdece_sum</th><th>purposeofcred_426M_e8f3b178_sum</th><th>purposeofcred_874M_27b6de28_sum</th><th>purposeofcred_874M_28bfa260_sum</th><th>purposeofcred_874M_44164129_sum</th><th>purposeofcred_874M_5065c2b8_sum</th><th>purposeofcred_874M_5d1b0cdd_sum</th><th>purposeofcred_874M_60c73645_sum</th><th>purposeofcred_874M_7a7d6960_sum</th><th>purposeofcred_874M_7ff464db_sum</th><th>purposeofcred_874M_8193a6ce_sum</th><th>purposeofcred_874M_89ccf2a3_sum</th><th>purposeofcred_874M_96a8fdfe_sum</th><th>purposeofcred_874M_P188_162_121_sum</th><th>purposeofcred_874M_a55475b1_sum</th><th>purposeofcred_874M_d11871e7_sum</th><th>purposeofcred_874M_d9ae1a0e_sum</th><th>purposeofcred_874M_e19fdece_sum</th><th>purposeofcred_874M_e8f3b178_sum</th><th>purposeofcred_874M_ee7d1eb8_sum</th><th>subjectrole_182M_0c42a10e_sum</th><th>subjectrole_182M_15f04f45_sum</th><th>subjectrole_182M_P28_48_88_sum</th><th>subjectrole_182M_a55475b1_sum</th><th>subjectrole_182M_ab3c25cf_sum</th><th>subjectrole_182M_be4fd70b_sum</th><th>subjectrole_182M_daf49a8a_sum</th><th>subjectrole_93M_0c42a10e_sum</th><th>subjectrole_93M_15f04f45_sum</th><th>subjectrole_93M_71ddaa88_sum</th><th>subjectrole_93M_a55475b1_sum</th><th>subjectrole_93M_ab3c25cf_sum</th><th>subjectrole_93M_be4fd70b_sum</th><th>subjectrole_93M_daf49a8a_sum</th></tr><tr><td>i64</td><td>f64</td><td>f64</td><td>f64</td><td>f64</td><td>f64</td><td>f64</td><td>f64</td><td>f64</td><td>f64</td><td>f64</td><td>f64</td><td>f64</td><td>f64</td><td>f64</td><td>f64</td><td>f64</td><td>f64</td><td>f64</td><td>f64</td><td>f64</td><td>f64</td><td>f64</td><td>f64</td><td>f64</td><td>f64</td><td>f64</td><td>f64</td><td>f64</td><td>f64</td><td>f64</td><td>f64</td><td>f64</td><td>f64</td><td>f64</td><td>f64</td><td>f64</td><td>&hellip;</td><td>i64</td><td>i64</td><td>i64</td><td>i64</td><td>i64</td><td>i64</td><td>i64</td><td>i64</td><td>i64</td><td>i64</td><td>i64</td><td>i64</td><td>i64</td><td>i64</td><td>i64</td><td>i64</td><td>i64</td><td>i64</td><td>i64</td><td>i64</td><td>i64</td><td>i64</td><td>i64</td><td>i64</td><td>i64</td><td>i64</td><td>i64</td><td>i64</td><td>i64</td><td>i64</td><td>i64</td><td>i64</td><td>i64</td><td>i64</td><td>i64</td><td>i64</td><td>i64</td></tr></thead><tbody><tr><td>1383971</td><td>null</td><td>null</td><td>null</td><td>null</td><td>200000.0</td><td>140271.67</td><td>18627.041</td><td>1.0</td><td>0.0</td><td>5.0</td><td>6.0</td><td>2019.0</td><td>2018.0</td><td>21100.293</td><td>null</td><td>null</td><td>21100.293</td><td>17686.6</td><td>null</td><td>0.12</td><td>1.0</td><td>1.0</td><td>18.0</td><td>null</td><td>0.0</td><td>null</td><td>2.0</td><td>1.0</td><td>2.0</td><td>0.0</td><td>0.0</td><td>null</td><td>0.0</td><td>18627.041</td><td>18627.041</td><td>17682.0</td><td>&hellip;</td><td>0</td><td>0</td><td>10</td><td>0</td><td>0</td><td>0</td><td>0</td><td>0</td><td>0</td><td>0</td><td>1</td><td>0</td><td>0</td><td>0</td><td>0</td><td>0</td><td>0</td><td>10</td><td>0</td><td>0</td><td>0</td><td>0</td><td>0</td><td>0</td><td>0</td><td>0</td><td>10</td><td>1</td><td>0</td><td>0</td><td>0</td><td>0</td><td>0</td><td>10</td><td>1</td><td>0</td><td>0</td></tr><tr><td>701157</td><td>8.11</td><td>5.5</td><td>null</td><td>4000.0</td><td>null</td><td>1115893.1</td><td>0.0</td><td>0.0</td><td>0.0</td><td>1.0</td><td>6.0</td><td>2017.0</td><td>2010.0</td><td>null</td><td>400.0</td><td>null</td><td>6955.0</td><td>0.0</td><td>5.0</td><td>8.0</td><td>2.0</td><td>1.0</td><td>57.0</td><td>72.0</td><td>0.0</td><td>7.0</td><td>0.0</td><td>0.0</td><td>0.0</td><td>0.0</td><td>0.0</td><td>47877.715</td><td>0.0</td><td>0.0</td><td>0.0</td><td>0.0</td><td>&hellip;</td><td>0</td><td>0</td><td>9</td><td>0</td><td>0</td><td>0</td><td>0</td><td>0</td><td>1</td><td>0</td><td>1</td><td>0</td><td>0</td><td>0</td><td>0</td><td>0</td><td>0</td><td>9</td><td>0</td><td>0</td><td>0</td><td>0</td><td>0</td><td>0</td><td>0</td><td>0</td><td>10</td><td>1</td><td>0</td><td>0</td><td>0</td><td>0</td><td>0</td><td>9</td><td>1</td><td>1</td><td>0</td></tr><tr><td>1399149</td><td>29.8</td><td>null</td><td>null</td><td>26998.0</td><td>20000.0</td><td>216750.98</td><td>0.0</td><td>0.0</td><td>0.0</td><td>11.0</td><td>1.0</td><td>2017.0</td><td>2017.0</td><td>6886.0</td><td>473.03198</td><td>null</td><td>3958.4001</td><td>473.03198</td><td>29.4</td><td>23.0</td><td>4.0</td><td>2.0</td><td>36.0</td><td>24.0</td><td>0.0</td><td>19.0</td><td>0.0</td><td>0.0</td><td>0.0</td><td>0.0</td><td>0.0</td><td>65717.26</td><td>0.0</td><td>0.0</td><td>0.0</td><td>0.0</td><td>&hellip;</td><td>0</td><td>0</td><td>7</td><td>0</td><td>0</td><td>0</td><td>0</td><td>0</td><td>0</td><td>0</td><td>2</td><td>0</td><td>0</td><td>0</td><td>0</td><td>0</td><td>0</td><td>9</td><td>0</td><td>0</td><td>0</td><td>0</td><td>0</td><td>0</td><td>0</td><td>0</td><td>10</td><td>1</td><td>0</td><td>0</td><td>0</td><td>0</td><td>0</td><td>10</td><td>1</td><td>0</td><td>0</td></tr><tr><td>1270453</td><td>null</td><td>26.4</td><td>null</td><td>null</td><td>null</td><td>47993.332</td><td>0.0</td><td>0.0</td><td>null</td><td>null</td><td>1.0</td><td>2018.0</td><td>null</td><td>null</td><td>null</td><td>null</td><td>1778.0</td><td>null</td><td>23.56</td><td>null</td><td>2.0</td><td>10.0</td><td>null</td><td>10.0</td><td>null</td><td>8.0</td><td>0.0</td><td>null</td><td>0.0</td><td>null</td><td>null</td><td>13043.526</td><td>null</td><td>0.0</td><td>0.0</td><td>null</td><td>&hellip;</td><td>0</td><td>0</td><td>10</td><td>0</td><td>0</td><td>0</td><td>0</td><td>0</td><td>0</td><td>0</td><td>0</td><td>0</td><td>0</td><td>0</td><td>0</td><td>0</td><td>0</td><td>12</td><td>0</td><td>0</td><td>0</td><td>0</td><td>0</td><td>0</td><td>0</td><td>0</td><td>11</td><td>1</td><td>0</td><td>0</td><td>0</td><td>0</td><td>0</td><td>11</td><td>1</td><td>0</td><td>0</td></tr><tr><td>105283</td><td>null</td><td>null</td><td>null</td><td>null</td><td>10150.0</td><td>0.0</td><td>0.0</td><td>1.0</td><td>null</td><td>null</td><td>12.0</td><td>2018.0</td><td>null</td><td>300.514</td><td>null</td><td>null</td><td>300.514</td><td>null</td><td>39.0</td><td>null</td><td>1.0</td><td>9.0</td><td>null</td><td>null</td><td>null</td><td>null</td><td>1.0</td><td>null</td><td>0.0</td><td>null</td><td>null</td><td>null</td><td>null</td><td>0.0</td><td>610.2</td><td>null</td><td>&hellip;</td><td>0</td><td>0</td><td>10</td><td>0</td><td>0</td><td>0</td><td>0</td><td>0</td><td>0</td><td>0</td><td>0</td><td>0</td><td>0</td><td>0</td><td>0</td><td>0</td><td>0</td><td>11</td><td>0</td><td>0</td><td>0</td><td>0</td><td>0</td><td>0</td><td>0</td><td>0</td><td>10</td><td>1</td><td>0</td><td>0</td><td>0</td><td>0</td><td>0</td><td>10</td><td>1</td><td>0</td><td>0</td></tr></tbody></table></div>"
      ],
      "text/plain": [
       "shape: (5, 1_190)\n",
       "┌─────────┬────────────┬───────────┬───────────┬───┬───────────┬───────────┬───────────┬───────────┐\n",
       "│ case_id ┆ annualeffe ┆ annualeff ┆ contracts ┆ … ┆ subjectro ┆ subjectro ┆ subjectro ┆ subjectro │\n",
       "│ ---     ┆ ctiverate_ ┆ ectiverat ┆ um_508571 ┆   ┆ le_93M_a5 ┆ le_93M_ab ┆ le_93M_be ┆ le_93M_da │\n",
       "│ i64     ┆ 199L_min   ┆ e_63L_min ┆ 7L_min    ┆   ┆ 5475b1_su ┆ 3c25cf_su ┆ 4fd70b_su ┆ f49a8a_su │\n",
       "│         ┆ ---        ┆ ---       ┆ ---       ┆   ┆ m         ┆ m         ┆ m         ┆ m         │\n",
       "│         ┆ f64        ┆ f64       ┆ f64       ┆   ┆ ---       ┆ ---       ┆ ---       ┆ ---       │\n",
       "│         ┆            ┆           ┆           ┆   ┆ i64       ┆ i64       ┆ i64       ┆ i64       │\n",
       "╞═════════╪════════════╪═══════════╪═══════════╪═══╪═══════════╪═══════════╪═══════════╪═══════════╡\n",
       "│ 1383971 ┆ null       ┆ null      ┆ null      ┆ … ┆ 10        ┆ 1         ┆ 0         ┆ 0         │\n",
       "│ 701157  ┆ 8.11       ┆ 5.5       ┆ null      ┆ … ┆ 9         ┆ 1         ┆ 1         ┆ 0         │\n",
       "│ 1399149 ┆ 29.8       ┆ null      ┆ null      ┆ … ┆ 10        ┆ 1         ┆ 0         ┆ 0         │\n",
       "│ 1270453 ┆ null       ┆ 26.4      ┆ null      ┆ … ┆ 11        ┆ 1         ┆ 0         ┆ 0         │\n",
       "│ 105283  ┆ null       ┆ null      ┆ null      ┆ … ┆ 10        ┆ 1         ┆ 0         ┆ 0         │\n",
       "└─────────┴────────────┴───────────┴───────────┴───┴───────────┴───────────┴───────────┴───────────┘"
      ]
     },
     "execution_count": 124,
     "metadata": {},
     "output_type": "execute_result"
    }
   ],
   "source": [
    "df_joined.head()"
   ]
  },
  {
   "cell_type": "code",
   "execution_count": 143,
   "metadata": {},
   "outputs": [],
   "source": [
    "def group_file_data(\n",
    "    df: pl.DataFrame, \n",
    "    num_cols: list[str] = [], \n",
    "    date_cols: list[str] = [], \n",
    "    cat_cols: list[str] = []\n",
    ") -> pl.DataFrame:\n",
    "    '''\n",
    "    Function to group numerical, date, and categorical columns\n",
    "\n",
    "    Parameters:\n",
    "    -----------\n",
    "    df : Polars DataFrame\n",
    "    num_cols : List of numerical column names (remember to drop num_group columns)\n",
    "    date_cols : List of date column names\n",
    "    cat_cols : List of categorical column names (becomes dummies)\n",
    "    '''\n",
    "    \n",
    "    # Convert date columns\n",
    "    df_date = df[['case_id'] + date_cols].with_columns([ pl.col(col).str.to_date() for col in date_cols ])\n",
    "\n",
    "    # One-hot categories\n",
    "    df_dummies = df[['case_id'] + cat_cols].to_dummies(cat_cols)\n",
    "\n",
    "    # Num DataFrame\n",
    "    df_num = df[['case_id'] + num_cols]\n",
    "\n",
    "    # Date aggs\n",
    "    date_aggs = [ pl.min(col).name.suffix('_min') for col in date_cols ] +\\\n",
    "                [ pl.max(col).name.suffix('_max') for col in date_cols ] +\\\n",
    "                [ pl.n_unique(col).name.suffix('_distinct') for col in date_cols]\n",
    "    df_date_grouped = df_date.group_by('case_id').agg(date_aggs)\n",
    "\n",
    "    # One-hot aggs\n",
    "    dummy_cols = [ col for col in df_dummies.columns if col != 'case_id']\n",
    "    dummies_aggs = [ pl.sum(col).name.suffix('_sum') for col in dummy_cols ]\n",
    "    df_dummies_grouped = df_dummies.group_by('case_id').agg(dummies_aggs)\n",
    "\n",
    "    # Numerical aggs\n",
    "    num_aggs = [ pl.min(col).name.suffix('_min') for col in num_cols ] +\\\n",
    "            [ pl.max(col).name.suffix('_max') for col in num_cols ] +\\\n",
    "            [ pl.mean(col).name.suffix('_mean') for col in num_cols ] +\\\n",
    "            [ pl.median(col).name.suffix('_median') for col in num_cols ] +\\\n",
    "            [ pl.sum(col).name.suffix('_sum') for col in num_cols ]\n",
    "    df_num_grouped = df_num.group_by('case_id').agg(num_aggs)\n",
    "\n",
    "    # Join DataFrames\n",
    "    df_joined = df_num_grouped.join(df_date_grouped, on='case_id')\n",
    "    df_joined = df_joined.join(df_dummies_grouped, on='case_id')\n",
    "\n",
    "    return df_joined"
   ]
  },
  {
   "cell_type": "code",
   "execution_count": 144,
   "metadata": {},
   "outputs": [],
   "source": [
    "# Concat a1 files\n",
    "df_file = pl.DataFrame()\n",
    "for f in files['a_1']:\n",
    "    temp_df = pl.read_parquet(f)\n",
    "    df_file = pl.concat([df_file, temp_df])\n",
    "\n",
    "# Group data\n",
    "df = group_file_data(df_file, num_cols, date_cols, cat_cols)"
   ]
  },
  {
   "cell_type": "code",
   "execution_count": 145,
   "metadata": {},
   "outputs": [],
   "source": [
    "df.write_parquet('../data/train_credit_bureau_a_1_grouped.parquet')"
   ]
  },
  {
   "cell_type": "markdown",
   "metadata": {},
   "source": [
    "## Train Credit Bureau A2 Columns"
   ]
  },
  {
   "cell_type": "code",
   "execution_count": 146,
   "metadata": {},
   "outputs": [
    {
     "data": {
      "text/plain": [
       "(5296031, 19)"
      ]
     },
     "execution_count": 146,
     "metadata": {},
     "output_type": "execute_result"
    }
   ],
   "source": [
    "df_a2 = pl.read_parquet(files['a_2'][8])\n",
    "df_a2.shape"
   ]
  },
  {
   "cell_type": "code",
   "execution_count": 147,
   "metadata": {},
   "outputs": [
    {
     "data": {
      "text/html": [
       "<div><style>\n",
       ".dataframe > thead > tr,\n",
       ".dataframe > tbody > tr {\n",
       "  text-align: right;\n",
       "  white-space: pre-wrap;\n",
       "}\n",
       "</style>\n",
       "<small>shape: (5, 19)</small><table border=\"1\" class=\"dataframe\"><thead><tr><th>case_id</th><th>collater_typofvalofguarant_298M</th><th>collater_typofvalofguarant_407M</th><th>collater_valueofguarantee_1124L</th><th>collater_valueofguarantee_876L</th><th>collaterals_typeofguarante_359M</th><th>collaterals_typeofguarante_669M</th><th>num_group1</th><th>num_group2</th><th>pmts_dpd_1073P</th><th>pmts_dpd_303P</th><th>pmts_month_158T</th><th>pmts_month_706T</th><th>pmts_overdue_1140A</th><th>pmts_overdue_1152A</th><th>pmts_year_1139T</th><th>pmts_year_507T</th><th>subjectroles_name_541M</th><th>subjectroles_name_838M</th></tr><tr><td>i64</td><td>str</td><td>str</td><td>f64</td><td>f64</td><td>str</td><td>str</td><td>i64</td><td>i64</td><td>f64</td><td>f64</td><td>f64</td><td>f64</td><td>f64</td><td>f64</td><td>f64</td><td>f64</td><td>str</td><td>str</td></tr></thead><tbody><tr><td>388</td><td>&quot;8fd95e4b&quot;</td><td>&quot;a55475b1&quot;</td><td>0.0</td><td>null</td><td>&quot;a55475b1&quot;</td><td>&quot;c7a5ad39&quot;</td><td>0</td><td>0</td><td>null</td><td>null</td><td>2.0</td><td>null</td><td>null</td><td>null</td><td>2018.0</td><td>null</td><td>&quot;a55475b1&quot;</td><td>&quot;ab3c25cf&quot;</td></tr><tr><td>388</td><td>&quot;a55475b1&quot;</td><td>&quot;a55475b1&quot;</td><td>null</td><td>null</td><td>&quot;a55475b1&quot;</td><td>&quot;a55475b1&quot;</td><td>0</td><td>1</td><td>null</td><td>null</td><td>3.0</td><td>null</td><td>null</td><td>null</td><td>2018.0</td><td>null</td><td>&quot;a55475b1&quot;</td><td>&quot;a55475b1&quot;</td></tr><tr><td>388</td><td>&quot;a55475b1&quot;</td><td>&quot;a55475b1&quot;</td><td>null</td><td>null</td><td>&quot;a55475b1&quot;</td><td>&quot;a55475b1&quot;</td><td>0</td><td>2</td><td>null</td><td>null</td><td>4.0</td><td>null</td><td>null</td><td>null</td><td>2018.0</td><td>null</td><td>&quot;a55475b1&quot;</td><td>&quot;a55475b1&quot;</td></tr><tr><td>388</td><td>&quot;a55475b1&quot;</td><td>&quot;a55475b1&quot;</td><td>null</td><td>null</td><td>&quot;a55475b1&quot;</td><td>&quot;a55475b1&quot;</td><td>0</td><td>3</td><td>null</td><td>null</td><td>5.0</td><td>null</td><td>null</td><td>null</td><td>2018.0</td><td>null</td><td>&quot;a55475b1&quot;</td><td>&quot;a55475b1&quot;</td></tr><tr><td>388</td><td>&quot;a55475b1&quot;</td><td>&quot;a55475b1&quot;</td><td>null</td><td>null</td><td>&quot;a55475b1&quot;</td><td>&quot;a55475b1&quot;</td><td>0</td><td>4</td><td>null</td><td>null</td><td>6.0</td><td>null</td><td>null</td><td>null</td><td>2018.0</td><td>null</td><td>&quot;a55475b1&quot;</td><td>&quot;a55475b1&quot;</td></tr></tbody></table></div>"
      ],
      "text/plain": [
       "shape: (5, 19)\n",
       "┌─────────┬────────────┬───────────┬───────────┬───┬───────────┬───────────┬───────────┬───────────┐\n",
       "│ case_id ┆ collater_t ┆ collater_ ┆ collater_ ┆ … ┆ pmts_year ┆ pmts_year ┆ subjectro ┆ subjectro │\n",
       "│ ---     ┆ ypofvalofg ┆ typofvalo ┆ valueofgu ┆   ┆ _1139T    ┆ _507T     ┆ les_name_ ┆ les_name_ │\n",
       "│ i64     ┆ uarant_298 ┆ fguarant_ ┆ arantee_1 ┆   ┆ ---       ┆ ---       ┆ 541M      ┆ 838M      │\n",
       "│         ┆ M          ┆ 407M      ┆ 124L      ┆   ┆ f64       ┆ f64       ┆ ---       ┆ ---       │\n",
       "│         ┆ ---        ┆ ---       ┆ ---       ┆   ┆           ┆           ┆ str       ┆ str       │\n",
       "│         ┆ str        ┆ str       ┆ f64       ┆   ┆           ┆           ┆           ┆           │\n",
       "╞═════════╪════════════╪═══════════╪═══════════╪═══╪═══════════╪═══════════╪═══════════╪═══════════╡\n",
       "│ 388     ┆ 8fd95e4b   ┆ a55475b1  ┆ 0.0       ┆ … ┆ 2018.0    ┆ null      ┆ a55475b1  ┆ ab3c25cf  │\n",
       "│ 388     ┆ a55475b1   ┆ a55475b1  ┆ null      ┆ … ┆ 2018.0    ┆ null      ┆ a55475b1  ┆ a55475b1  │\n",
       "│ 388     ┆ a55475b1   ┆ a55475b1  ┆ null      ┆ … ┆ 2018.0    ┆ null      ┆ a55475b1  ┆ a55475b1  │\n",
       "│ 388     ┆ a55475b1   ┆ a55475b1  ┆ null      ┆ … ┆ 2018.0    ┆ null      ┆ a55475b1  ┆ a55475b1  │\n",
       "│ 388     ┆ a55475b1   ┆ a55475b1  ┆ null      ┆ … ┆ 2018.0    ┆ null      ┆ a55475b1  ┆ a55475b1  │\n",
       "└─────────┴────────────┴───────────┴───────────┴───┴───────────┴───────────┴───────────┴───────────┘"
      ]
     },
     "execution_count": 147,
     "metadata": {},
     "output_type": "execute_result"
    }
   ],
   "source": [
    "df_a2.head()"
   ]
  },
  {
   "cell_type": "code",
   "execution_count": 148,
   "metadata": {},
   "outputs": [],
   "source": [
    "# Besides some messy payment stuff (will deal with later), straight forward groups\n",
    "a2_date_cols = []\n",
    "a2_cat_cols = [ df_a2.columns[i] for i in range(len(df_a2.columns)) if (df_a2.columns[i] not in a2_date_cols) and (df_a2.dtypes[i] == pl.String) ]\n",
    "a2_num_cols = [ \n",
    "    df_a2.columns[i] for i in range(len(df_a2.columns)) \n",
    "    if (df_a2.columns[i] not in a2_date_cols) and (df_a2.columns[i] not in a2_cat_cols) and (df_a2.columns[i] not in ignore_cols)\n",
    "]"
   ]
  },
  {
   "cell_type": "code",
   "execution_count": 149,
   "metadata": {},
   "outputs": [],
   "source": [
    "# Concat a2 files\n",
    "df_a2_file = pl.DataFrame()\n",
    "for f in files['a_2']:\n",
    "    temp_df = pl.read_parquet(f)\n",
    "    df_a2_file = pl.concat([df_a2_file, temp_df])\n",
    "\n",
    "# Group data\n",
    "df_a2 = group_file_data(df_a2_file, a2_num_cols, a2_date_cols, a2_cat_cols)"
   ]
  },
  {
   "cell_type": "code",
   "execution_count": 150,
   "metadata": {},
   "outputs": [],
   "source": [
    "df_a2.write_parquet('../data/train_credit_bureau_a_2_grouped.parquet')"
   ]
  },
  {
   "cell_type": "markdown",
   "metadata": {},
   "source": [
    "## Train Credit Bureau B1 Columns"
   ]
  },
  {
   "cell_type": "code",
   "execution_count": 151,
   "metadata": {},
   "outputs": [
    {
     "data": {
      "text/plain": [
       "(85791, 45)"
      ]
     },
     "execution_count": 151,
     "metadata": {},
     "output_type": "execute_result"
    }
   ],
   "source": [
    "df_b1 = pl.read_parquet(files['b_1'][0])\n",
    "df_b1.shape"
   ]
  },
  {
   "cell_type": "code",
   "execution_count": 152,
   "metadata": {},
   "outputs": [
    {
     "data": {
      "text/html": [
       "<div><style>\n",
       ".dataframe > thead > tr,\n",
       ".dataframe > tbody > tr {\n",
       "  text-align: right;\n",
       "  white-space: pre-wrap;\n",
       "}\n",
       "</style>\n",
       "<small>shape: (5, 45)</small><table border=\"1\" class=\"dataframe\"><thead><tr><th>case_id</th><th>amount_1115A</th><th>classificationofcontr_1114M</th><th>contractdate_551D</th><th>contractmaturitydate_151D</th><th>contractst_516M</th><th>contracttype_653M</th><th>credlmt_1052A</th><th>credlmt_228A</th><th>credlmt_3940954A</th><th>credor_3940957M</th><th>credquantity_1099L</th><th>credquantity_984L</th><th>debtpastduevalue_732A</th><th>debtvalue_227A</th><th>dpd_550P</th><th>dpd_733P</th><th>dpdmax_851P</th><th>dpdmaxdatemonth_804T</th><th>dpdmaxdateyear_742T</th><th>installmentamount_644A</th><th>installmentamount_833A</th><th>instlamount_892A</th><th>interesteffectiverate_369L</th><th>interestrateyearly_538L</th><th>lastupdate_260D</th><th>maxdebtpduevalodued_3940955A</th><th>num_group1</th><th>numberofinstls_810L</th><th>overdueamountmax_950A</th><th>overdueamountmaxdatemonth_494T</th><th>overdueamountmaxdateyear_432T</th><th>periodicityofpmts_997L</th><th>periodicityofpmts_997M</th><th>pmtdaysoverdue_1135P</th><th>pmtmethod_731M</th><th>pmtnumpending_403L</th><th>purposeofcred_722M</th><th>residualamount_1093A</th><th>residualamount_127A</th><th>residualamount_3940956A</th><th>subjectrole_326M</th><th>subjectrole_43M</th><th>totalamount_503A</th><th>totalamount_881A</th></tr><tr><td>i64</td><td>f64</td><td>str</td><td>str</td><td>str</td><td>str</td><td>str</td><td>f64</td><td>f64</td><td>f64</td><td>str</td><td>f64</td><td>f64</td><td>f64</td><td>f64</td><td>f64</td><td>f64</td><td>f64</td><td>f64</td><td>f64</td><td>f64</td><td>f64</td><td>f64</td><td>f64</td><td>f64</td><td>str</td><td>f64</td><td>i64</td><td>f64</td><td>f64</td><td>f64</td><td>f64</td><td>str</td><td>str</td><td>f64</td><td>str</td><td>f64</td><td>str</td><td>f64</td><td>f64</td><td>f64</td><td>str</td><td>str</td><td>f64</td><td>f64</td></tr></thead><tbody><tr><td>467</td><td>null</td><td>&quot;ea6782cc&quot;</td><td>&quot;2011-06-15&quot;</td><td>&quot;2031-06-13&quot;</td><td>&quot;7241344e&quot;</td><td>&quot;724be82a&quot;</td><td>3e6</td><td>10000.0</td><td>3e6</td><td>&quot;P164_34_168&quot;</td><td>2.0</td><td>1.0</td><td>null</td><td>null</td><td>0.0</td><td>0.0</td><td>null</td><td>null</td><td>null</td><td>0.0</td><td>0.0</td><td>null</td><td>null</td><td>null</td><td>&quot;2019-01-20&quot;</td><td>null</td><td>0</td><td>null</td><td>null</td><td>null</td><td>null</td><td>null</td><td>&quot;a55475b1&quot;</td><td>null</td><td>&quot;a55475b1&quot;</td><td>null</td><td>&quot;96a8fdfe&quot;</td><td>0.0</td><td>0.0</td><td>null</td><td>&quot;fa4f56f1&quot;</td><td>&quot;ab3c25cf&quot;</td><td>3e6</td><td>10000.0</td></tr><tr><td>467</td><td>null</td><td>&quot;ea6782cc&quot;</td><td>&quot;2019-01-04&quot;</td><td>&quot;2021-08-04&quot;</td><td>&quot;7241344e&quot;</td><td>&quot;724be82a&quot;</td><td>null</td><td>null</td><td>130365.0</td><td>&quot;P164_34_168&quot;</td><td>1.0</td><td>2.0</td><td>null</td><td>null</td><td>0.0</td><td>0.0</td><td>null</td><td>null</td><td>null</td><td>0.0</td><td>26571.969</td><td>null</td><td>null</td><td>null</td><td>&quot;2019-01-20&quot;</td><td>null</td><td>1</td><td>null</td><td>null</td><td>null</td><td>null</td><td>null</td><td>&quot;a55475b1&quot;</td><td>null</td><td>&quot;a55475b1&quot;</td><td>null</td><td>&quot;96a8fdfe&quot;</td><td>null</td><td>null</td><td>null</td><td>&quot;ab3c25cf&quot;</td><td>&quot;ab3c25cf&quot;</td><td>78000.0</td><td>960000.0</td></tr><tr><td>467</td><td>78000.0</td><td>&quot;ea6782cc&quot;</td><td>&quot;2016-10-25&quot;</td><td>&quot;2019-10-25&quot;</td><td>&quot;7241344e&quot;</td><td>&quot;4257cbed&quot;</td><td>null</td><td>null</td><td>null</td><td>&quot;c5a72b57&quot;</td><td>null</td><td>null</td><td>0.0</td><td>26571.969</td><td>null</td><td>null</td><td>0.0</td><td>11.0</td><td>2016.0</td><td>null</td><td>null</td><td>2898.76</td><td>null</td><td>null</td><td>&quot;2019-01-10&quot;</td><td>0.0</td><td>2</td><td>36.0</td><td>0.0</td><td>11.0</td><td>2016.0</td><td>null</td><td>&quot;a0b598e4&quot;</td><td>0.0</td><td>&quot;e914c86c&quot;</td><td>10.0</td><td>&quot;96a8fdfe&quot;</td><td>null</td><td>null</td><td>null</td><td>&quot;a55475b1&quot;</td><td>&quot;a55475b1&quot;</td><td>null</td><td>null</td></tr><tr><td>1445</td><td>null</td><td>&quot;ea6782cc&quot;</td><td>&quot;2015-01-30&quot;</td><td>&quot;2021-01-30&quot;</td><td>&quot;7241344e&quot;</td><td>&quot;1c9c5356&quot;</td><td>400000.0</td><td>100000.0</td><td>74000.0</td><td>&quot;b619fa46&quot;</td><td>2.0</td><td>5.0</td><td>0.0</td><td>null</td><td>0.0</td><td>0.0</td><td>200418.0</td><td>1.0</td><td>2018.0</td><td>0.0</td><td>0.0</td><td>null</td><td>null</td><td>null</td><td>&quot;2019-01-19&quot;</td><td>0.4</td><td>0</td><td>null</td><td>1.4</td><td>2.0</td><td>2018.0</td><td>null</td><td>&quot;a55475b1&quot;</td><td>0.0</td><td>&quot;a55475b1&quot;</td><td>null</td><td>&quot;60c73645&quot;</td><td>0.0</td><td>0.0</td><td>73044.18</td><td>&quot;daf49a8a&quot;</td><td>&quot;ab3c25cf&quot;</td><td>400000.0</td><td>100000.0</td></tr><tr><td>1445</td><td>null</td><td>&quot;01f63ac8&quot;</td><td>&quot;2014-09-12&quot;</td><td>&quot;2021-09-12&quot;</td><td>&quot;7241344e&quot;</td><td>&quot;724be82a&quot;</td><td>null</td><td>null</td><td>400000.0</td><td>&quot;74bd67a8&quot;</td><td>3.0</td><td>17.0</td><td>null</td><td>null</td><td>0.0</td><td>0.0</td><td>null</td><td>null</td><td>null</td><td>0.0</td><td>209617.77</td><td>null</td><td>null</td><td>null</td><td>&quot;2019-01-13&quot;</td><td>null</td><td>1</td><td>null</td><td>null</td><td>null</td><td>null</td><td>null</td><td>&quot;a55475b1&quot;</td><td>null</td><td>&quot;a55475b1&quot;</td><td>null</td><td>&quot;96a8fdfe&quot;</td><td>null</td><td>null</td><td>null</td><td>&quot;ab3c25cf&quot;</td><td>&quot;ab3c25cf&quot;</td><td>396800.62</td><td>184587.8</td></tr></tbody></table></div>"
      ],
      "text/plain": [
       "shape: (5, 45)\n",
       "┌─────────┬────────────┬───────────┬───────────┬───┬───────────┬───────────┬───────────┬───────────┐\n",
       "│ case_id ┆ amount_111 ┆ classific ┆ contractd ┆ … ┆ subjectro ┆ subjectro ┆ totalamou ┆ totalamou │\n",
       "│ ---     ┆ 5A         ┆ ationofco ┆ ate_551D  ┆   ┆ le_326M   ┆ le_43M    ┆ nt_503A   ┆ nt_881A   │\n",
       "│ i64     ┆ ---        ┆ ntr_1114M ┆ ---       ┆   ┆ ---       ┆ ---       ┆ ---       ┆ ---       │\n",
       "│         ┆ f64        ┆ ---       ┆ str       ┆   ┆ str       ┆ str       ┆ f64       ┆ f64       │\n",
       "│         ┆            ┆ str       ┆           ┆   ┆           ┆           ┆           ┆           │\n",
       "╞═════════╪════════════╪═══════════╪═══════════╪═══╪═══════════╪═══════════╪═══════════╪═══════════╡\n",
       "│ 467     ┆ null       ┆ ea6782cc  ┆ 2011-06-1 ┆ … ┆ fa4f56f1  ┆ ab3c25cf  ┆ 3e6       ┆ 10000.0   │\n",
       "│         ┆            ┆           ┆ 5         ┆   ┆           ┆           ┆           ┆           │\n",
       "│ 467     ┆ null       ┆ ea6782cc  ┆ 2019-01-0 ┆ … ┆ ab3c25cf  ┆ ab3c25cf  ┆ 78000.0   ┆ 960000.0  │\n",
       "│         ┆            ┆           ┆ 4         ┆   ┆           ┆           ┆           ┆           │\n",
       "│ 467     ┆ 78000.0    ┆ ea6782cc  ┆ 2016-10-2 ┆ … ┆ a55475b1  ┆ a55475b1  ┆ null      ┆ null      │\n",
       "│         ┆            ┆           ┆ 5         ┆   ┆           ┆           ┆           ┆           │\n",
       "│ 1445    ┆ null       ┆ ea6782cc  ┆ 2015-01-3 ┆ … ┆ daf49a8a  ┆ ab3c25cf  ┆ 400000.0  ┆ 100000.0  │\n",
       "│         ┆            ┆           ┆ 0         ┆   ┆           ┆           ┆           ┆           │\n",
       "│ 1445    ┆ null       ┆ 01f63ac8  ┆ 2014-09-1 ┆ … ┆ ab3c25cf  ┆ ab3c25cf  ┆ 396800.62 ┆ 184587.8  │\n",
       "│         ┆            ┆           ┆ 2         ┆   ┆           ┆           ┆           ┆           │\n",
       "└─────────┴────────────┴───────────┴───────────┴───┴───────────┴───────────┴───────────┴───────────┘"
      ]
     },
     "execution_count": 152,
     "metadata": {},
     "output_type": "execute_result"
    }
   ],
   "source": [
    "df_b1.head()"
   ]
  },
  {
   "cell_type": "code",
   "execution_count": 153,
   "metadata": {},
   "outputs": [],
   "source": [
    "b1_date_cols = [ df_b1.columns[i] for i in range(len(df_b1.columns)) if (df_b1.columns[i].__contains__('dat')) and (df_b1.dtypes[i] == pl.String) ]\n",
    "b1_cat_cols = [ df_b1.columns[i] for i in range(len(df_b1.columns)) if (df_b1.columns[i] not in b1_date_cols) and (df_b1.dtypes[i] == pl.String) ]\n",
    "b1_num_cols = [ \n",
    "    df_b1.columns[i] for i in range(len(df_b1.columns)) \n",
    "    if (df_b1.columns[i] not in b1_date_cols) and (df_b1.columns[i] not in b1_cat_cols) and (df_b1.columns[i] not in ignore_cols)\n",
    "]"
   ]
  },
  {
   "cell_type": "code",
   "execution_count": 154,
   "metadata": {},
   "outputs": [],
   "source": [
    "# Group data\n",
    "df_b1 = group_file_data(df_b1, b1_num_cols, b1_date_cols, b1_cat_cols)\n",
    "\n",
    "df_b1.write_parquet('../data/train_credit_bureau_b_1_grouped.parquet')"
   ]
  },
  {
   "cell_type": "markdown",
   "metadata": {},
   "source": [
    "## Train Credit Bureau B2 Columns"
   ]
  },
  {
   "cell_type": "code",
   "execution_count": 155,
   "metadata": {},
   "outputs": [
    {
     "data": {
      "text/plain": [
       "(1286755, 6)"
      ]
     },
     "execution_count": 155,
     "metadata": {},
     "output_type": "execute_result"
    }
   ],
   "source": [
    "df_b2 = pl.read_parquet(files['b_2'][0])\n",
    "df_b2.shape"
   ]
  },
  {
   "cell_type": "code",
   "execution_count": 156,
   "metadata": {},
   "outputs": [
    {
     "data": {
      "text/html": [
       "<div><style>\n",
       ".dataframe > thead > tr,\n",
       ".dataframe > tbody > tr {\n",
       "  text-align: right;\n",
       "  white-space: pre-wrap;\n",
       "}\n",
       "</style>\n",
       "<small>shape: (5, 6)</small><table border=\"1\" class=\"dataframe\"><thead><tr><th>case_id</th><th>num_group1</th><th>num_group2</th><th>pmts_date_1107D</th><th>pmts_dpdvalue_108P</th><th>pmts_pmtsoverdue_635A</th></tr><tr><td>i64</td><td>i64</td><td>i64</td><td>str</td><td>f64</td><td>f64</td></tr></thead><tbody><tr><td>467</td><td>2</td><td>19</td><td>&quot;2018-05-15&quot;</td><td>0.0</td><td>0.0</td></tr><tr><td>467</td><td>2</td><td>25</td><td>&quot;2018-11-15&quot;</td><td>0.0</td><td>0.0</td></tr><tr><td>467</td><td>2</td><td>18</td><td>&quot;2018-04-15&quot;</td><td>0.0</td><td>0.0</td></tr><tr><td>467</td><td>2</td><td>0</td><td>&quot;2016-10-15&quot;</td><td>0.0</td><td>0.0</td></tr><tr><td>467</td><td>2</td><td>6</td><td>&quot;2017-04-15&quot;</td><td>0.0</td><td>0.0</td></tr></tbody></table></div>"
      ],
      "text/plain": [
       "shape: (5, 6)\n",
       "┌─────────┬────────────┬────────────┬─────────────────┬────────────────────┬───────────────────────┐\n",
       "│ case_id ┆ num_group1 ┆ num_group2 ┆ pmts_date_1107D ┆ pmts_dpdvalue_108P ┆ pmts_pmtsoverdue_635A │\n",
       "│ ---     ┆ ---        ┆ ---        ┆ ---             ┆ ---                ┆ ---                   │\n",
       "│ i64     ┆ i64        ┆ i64        ┆ str             ┆ f64                ┆ f64                   │\n",
       "╞═════════╪════════════╪════════════╪═════════════════╪════════════════════╪═══════════════════════╡\n",
       "│ 467     ┆ 2          ┆ 19         ┆ 2018-05-15      ┆ 0.0                ┆ 0.0                   │\n",
       "│ 467     ┆ 2          ┆ 25         ┆ 2018-11-15      ┆ 0.0                ┆ 0.0                   │\n",
       "│ 467     ┆ 2          ┆ 18         ┆ 2018-04-15      ┆ 0.0                ┆ 0.0                   │\n",
       "│ 467     ┆ 2          ┆ 0          ┆ 2016-10-15      ┆ 0.0                ┆ 0.0                   │\n",
       "│ 467     ┆ 2          ┆ 6          ┆ 2017-04-15      ┆ 0.0                ┆ 0.0                   │\n",
       "└─────────┴────────────┴────────────┴─────────────────┴────────────────────┴───────────────────────┘"
      ]
     },
     "execution_count": 156,
     "metadata": {},
     "output_type": "execute_result"
    }
   ],
   "source": [
    "df_b2.head()"
   ]
  },
  {
   "cell_type": "code",
   "execution_count": 157,
   "metadata": {},
   "outputs": [],
   "source": [
    "# Again depth 2 files are a bit more messy and we will deal with the messiness later\n",
    "b2_date_cols = [ df_b2.columns[i] for i in range(len(df_b2.columns)) if (df_b2.columns[i].__contains__('dat')) and (df_b2.dtypes[i] == pl.String) ]\n",
    "b2_cat_cols = [ df_b2.columns[i] for i in range(len(df_b2.columns)) if (df_b2.columns[i] not in b2_date_cols) and (df_b2.dtypes[i] == pl.String) ]\n",
    "b2_num_cols = [ \n",
    "    df_b2.columns[i] for i in range(len(df_b2.columns)) \n",
    "    if (df_b2.columns[i] not in b2_date_cols) and (df_b2.columns[i] not in b2_cat_cols) and (df_b2.columns[i] not in ignore_cols)\n",
    "]"
   ]
  },
  {
   "cell_type": "code",
   "execution_count": 158,
   "metadata": {},
   "outputs": [],
   "source": [
    "# Group data\n",
    "df_b2 = group_file_data(df_b2, b2_num_cols, b2_date_cols, b2_cat_cols)\n",
    "\n",
    "df_b2.write_parquet('../data/train_credit_bureau_b_2_grouped.parquet')"
   ]
  },
  {
   "cell_type": "code",
   "execution_count": null,
   "metadata": {},
   "outputs": [],
   "source": []
  }
 ],
 "metadata": {
  "kernelspec": {
   "display_name": "amp-env",
   "language": "python",
   "name": "python3"
  },
  "language_info": {
   "codemirror_mode": {
    "name": "ipython",
    "version": 3
   },
   "file_extension": ".py",
   "mimetype": "text/x-python",
   "name": "python",
   "nbconvert_exporter": "python",
   "pygments_lexer": "ipython3",
   "version": "3.10.3"
  }
 },
 "nbformat": 4,
 "nbformat_minor": 2
}
